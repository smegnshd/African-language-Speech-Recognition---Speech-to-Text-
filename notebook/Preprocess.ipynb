{
 "cells": [
  {
   "cell_type": "code",
   "execution_count": 32,
   "id": "4cadde93",
   "metadata": {},
   "outputs": [],
   "source": [
    "%matplotlib inline\n",
    "import matplotlib.pyplot as plt\n",
    "import librosa.display\n",
    "# read and manage audio file\n",
    "import librosa as lr\n",
    "#load data\n",
    "import os\n",
    "import glob\n",
    "#linear algebra\n",
    "import pandas as pd\n",
    "import numpy as np"
   ]
  },
  {
   "cell_type": "code",
   "execution_count": 51,
   "id": "f6606a9f",
   "metadata": {},
   "outputs": [
    {
     "ename": "TypeError",
     "evalue": "'module' object is not callable",
     "output_type": "error",
     "traceback": [
      "\u001b[1;31m---------------------------------------------------------------------------\u001b[0m",
      "\u001b[1;31mTypeError\u001b[0m                                 Traceback (most recent call last)",
      "\u001b[1;32m<ipython-input-51-4868683f85a8>\u001b[0m in \u001b[0;36m<module>\u001b[1;34m\u001b[0m\n\u001b[0;32m      1\u001b[0m \u001b[1;31m#set file directory and source\u001b[0m\u001b[1;33m\u001b[0m\u001b[1;33m\u001b[0m\u001b[1;33m\u001b[0m\u001b[0m\n\u001b[0;32m      2\u001b[0m \u001b[0mdata_dir\u001b[0m \u001b[1;33m=\u001b[0m \u001b[1;34m'./ASR/AMHARIC/data/train/wav'\u001b[0m\u001b[1;33m\u001b[0m\u001b[1;33m\u001b[0m\u001b[0m\n\u001b[1;32m----> 3\u001b[1;33m \u001b[0mtrain_amh\u001b[0m\u001b[1;33m=\u001b[0m \u001b[0mglob\u001b[0m\u001b[1;33m(\u001b[0m\u001b[0mdata_dir\u001b[0m \u001b[1;33m+\u001b[0m \u001b[1;34m'/*.wav'\u001b[0m\u001b[1;33m)\u001b[0m\u001b[1;33m\u001b[0m\u001b[1;33m\u001b[0m\u001b[0m\n\u001b[0m",
      "\u001b[1;31mTypeError\u001b[0m: 'module' object is not callable"
     ]
    }
   ],
   "source": [
    "#set file directory and source\n",
    "data_dir = './ASR/AMHARIC/data/train/wav'\n",
    "train_amh= glob(data_dir + '/*.wav')"
   ]
  },
  {
   "cell_type": "code",
   "execution_count": 45,
   "id": "ce7d2cba",
   "metadata": {},
   "outputs": [],
   "source": [
    "\n",
    "from scipy.io.wavfile import read\n",
    "\n",
    "wavs = []\n",
    "for filename in glob.glob('*.wav'):\n",
    "    print(filename)\n",
    "    wavs.append(read(filename))"
   ]
  },
  {
   "cell_type": "code",
   "execution_count": 22,
   "id": "564bdfb2",
   "metadata": {},
   "outputs": [],
   "source": [
    " \n",
    "import wave\n",
    "import numpy as np\n",
    "import matplotlib.pyplot as plt\n",
    " \n",
    "filepath=\"C:/Users/Smegn/Documents/GitHub/African-language-Speech-Recognition---Speech-to-Text-/ALFFA_PUBLIC/ASR/AMHARIC/data/train/\"\n",
    "wavelist=[]\n",
    "filenames=os.listdir(filepath)\n",
    "for filename in filenames:\n",
    "    name,category=os.path.splitext(filepath+filename)#Split file extension\n",
    "    if category=='.wav': #If the file is a wav audio file\n",
    "        wavelist.append(filename)\n",
    "        \n",
    "for wav in wavelist:        \n",
    "    f=wave.open(wav,'rb')\n",
    "    params=f.getparams()\n",
    "    nchannels,sampwidth,framerate,nframes=params[:4]\n",
    "    strData=f.readframes(nframes)\n",
    "    f.close()\n",
    "    waveData = np.fromstring(strData,dtype=np.int16)#Convert a string to int\n",
    "    waveData=waveData*1.0/max(abs(waveData))#Amplitude normalization\n",
    "    \n",
    "#plot the figure\n",
    "    time=(1.0/framerate)*np.arange(0,nframes)\n",
    "    plt.plot(time,waveData)\n",
    "    plt.title('wave plot')\n",
    "    plt.xlabel('Time')\n",
    "    plt.ylabel('Amplitude')\n",
    "    plt.grid('on')# Ruler\n"
   ]
  },
  {
   "cell_type": "code",
   "execution_count": 30,
   "id": "3a32c0d7",
   "metadata": {},
   "outputs": [
    {
     "ename": "NameError",
     "evalue": "name 'wavefile' is not defined",
     "output_type": "error",
     "traceback": [
      "\u001b[1;31m---------------------------------------------------------------------------\u001b[0m",
      "\u001b[1;31mNameError\u001b[0m                                 Traceback (most recent call last)",
      "\u001b[1;32m<ipython-input-30-408fff144be0>\u001b[0m in \u001b[0;36m<module>\u001b[1;34m\u001b[0m\n\u001b[0;32m      1\u001b[0m \u001b[1;32mimport\u001b[0m \u001b[0mwave\u001b[0m\u001b[1;33m\u001b[0m\u001b[1;33m\u001b[0m\u001b[0m\n\u001b[0;32m      2\u001b[0m \u001b[1;33m\u001b[0m\u001b[0m\n\u001b[1;32m----> 3\u001b[1;33m \u001b[0mw\u001b[0m\u001b[1;33m=\u001b[0m\u001b[0mwavefile\u001b[0m\u001b[1;33m.\u001b[0m\u001b[0mread\u001b[0m\u001b[1;33m(\u001b[0m\u001b[1;34m'C:/Users/Smegn/Documents/GitHub/African-language-Speech-Recognition---Speech-to-Text-/ALFFA_PUBLIC/ASR/AMHARIC/data/train/'\u001b[0m\u001b[1;33m)\u001b[0m\u001b[1;33m\u001b[0m\u001b[1;33m\u001b[0m\u001b[0m\n\u001b[0m\u001b[0;32m      4\u001b[0m \u001b[1;33m\u001b[0m\u001b[0m\n",
      "\u001b[1;31mNameError\u001b[0m: name 'wavefile' is not defined"
     ]
    }
   ],
   "source": [
    "import wave\n",
    "\n",
    "w=wavefile.read('C:/Users/Smegn/Documents/GitHub/African-language-Speech-Recognition---Speech-to-Text-/ALFFA_PUBLIC/ASR/AMHARIC/data/train/')\n",
    "\n"
   ]
  },
  {
   "cell_type": "code",
   "execution_count": null,
   "id": "75345d16",
   "metadata": {},
   "outputs": [],
   "source": []
  }
 ],
 "metadata": {
  "kernelspec": {
   "display_name": "Python 3",
   "language": "python",
   "name": "python3"
  },
  "language_info": {
   "codemirror_mode": {
    "name": "ipython",
    "version": 3
   },
   "file_extension": ".py",
   "mimetype": "text/x-python",
   "name": "python",
   "nbconvert_exporter": "python",
   "pygments_lexer": "ipython3",
   "version": "3.8.8"
  }
 },
 "nbformat": 4,
 "nbformat_minor": 5
}
